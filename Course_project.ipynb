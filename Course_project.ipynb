{
 "cells": [
  {
   "cell_type": "markdown",
   "id": "silent-white",
   "metadata": {},
   "source": [
    "# Course project"
   ]
  },
  {
   "cell_type": "markdown",
   "id": "united-pierce",
   "metadata": {},
   "source": [
    "- Целевая метрика - precision@5. Порог для уcпешной сдачи проекта precision@5 > 25%\n",
    "- Будет public тестовый датасет, на котором вы сможете измерять метрику\n",
    "- Также будет private тестовый датасет для измерения финального качества\n",
    "- НЕ обязательно, но крайне желательно использовать 2-ух уровневые рекоммендательные системы в проекте\n",
    "- Вы сдаете код проекта в виде github репозитория и csv файл с рекомендациями "
   ]
  },
  {
   "cell_type": "markdown",
   "id": "celtic-wayne",
   "metadata": {},
   "source": [
    "__Загрузим библиотеки и данные__"
   ]
  },
  {
   "cell_type": "code",
   "execution_count": 1,
   "id": "clean-grant",
   "metadata": {},
   "outputs": [],
   "source": [
    "import pandas as pd\n",
    "import numpy as np\n",
    "import matplotlib.pyplot as plt\n",
    "%matplotlib inline\n",
    "\n",
    "from lightgbm import LGBMClassifier\n",
    "\n",
    "import os, sys\n",
    "module_path = os.path.abspath(os.path.join(os.pardir))\n",
    "if module_path not in sys.path:\n",
    "    sys.path.append(module_path)\n",
    "\n",
    "from metrics import precision_at_k, recall_at_k\n",
    "from utils import prefilter_items\n",
    "from recommenders import MainRecommender\n",
    "\n",
    "import warnings\n",
    "warnings.simplefilter('ignore')"
   ]
  },
  {
   "cell_type": "code",
   "execution_count": 2,
   "id": "composed-yacht",
   "metadata": {},
   "outputs": [],
   "source": [
    "train = pd.read_csv('data/retail_train.csv')\n",
    "test = pd.read_csv('data/retail_test1.csv')\n",
    "item_features = pd.read_csv('data/product.csv')\n",
    "user_features = pd.read_csv('data/hh_demographic.csv')"
   ]
  },
  {
   "cell_type": "markdown",
   "id": "dressed-daughter",
   "metadata": {},
   "source": [
    "__Посмотрим на данные__"
   ]
  },
  {
   "cell_type": "code",
   "execution_count": 3,
   "id": "italic-allen",
   "metadata": {},
   "outputs": [
    {
     "data": {
      "text/html": [
       "<div>\n",
       "<style scoped>\n",
       "    .dataframe tbody tr th:only-of-type {\n",
       "        vertical-align: middle;\n",
       "    }\n",
       "\n",
       "    .dataframe tbody tr th {\n",
       "        vertical-align: top;\n",
       "    }\n",
       "\n",
       "    .dataframe thead th {\n",
       "        text-align: right;\n",
       "    }\n",
       "</style>\n",
       "<table border=\"1\" class=\"dataframe\">\n",
       "  <thead>\n",
       "    <tr style=\"text-align: right;\">\n",
       "      <th></th>\n",
       "      <th>user_id</th>\n",
       "      <th>basket_id</th>\n",
       "      <th>day</th>\n",
       "      <th>item_id</th>\n",
       "      <th>quantity</th>\n",
       "      <th>sales_value</th>\n",
       "      <th>store_id</th>\n",
       "      <th>retail_disc</th>\n",
       "      <th>trans_time</th>\n",
       "      <th>week_no</th>\n",
       "      <th>coupon_disc</th>\n",
       "      <th>coupon_match_disc</th>\n",
       "    </tr>\n",
       "  </thead>\n",
       "  <tbody>\n",
       "    <tr>\n",
       "      <th>0</th>\n",
       "      <td>2375</td>\n",
       "      <td>26984851472</td>\n",
       "      <td>1</td>\n",
       "      <td>1004906</td>\n",
       "      <td>1</td>\n",
       "      <td>1.39</td>\n",
       "      <td>364</td>\n",
       "      <td>-0.6</td>\n",
       "      <td>1631</td>\n",
       "      <td>1</td>\n",
       "      <td>0.0</td>\n",
       "      <td>0.0</td>\n",
       "    </tr>\n",
       "    <tr>\n",
       "      <th>1</th>\n",
       "      <td>2375</td>\n",
       "      <td>26984851472</td>\n",
       "      <td>1</td>\n",
       "      <td>1033142</td>\n",
       "      <td>1</td>\n",
       "      <td>0.82</td>\n",
       "      <td>364</td>\n",
       "      <td>0.0</td>\n",
       "      <td>1631</td>\n",
       "      <td>1</td>\n",
       "      <td>0.0</td>\n",
       "      <td>0.0</td>\n",
       "    </tr>\n",
       "    <tr>\n",
       "      <th>2</th>\n",
       "      <td>2375</td>\n",
       "      <td>26984851472</td>\n",
       "      <td>1</td>\n",
       "      <td>1036325</td>\n",
       "      <td>1</td>\n",
       "      <td>0.99</td>\n",
       "      <td>364</td>\n",
       "      <td>-0.3</td>\n",
       "      <td>1631</td>\n",
       "      <td>1</td>\n",
       "      <td>0.0</td>\n",
       "      <td>0.0</td>\n",
       "    </tr>\n",
       "    <tr>\n",
       "      <th>3</th>\n",
       "      <td>2375</td>\n",
       "      <td>26984851472</td>\n",
       "      <td>1</td>\n",
       "      <td>1082185</td>\n",
       "      <td>1</td>\n",
       "      <td>1.21</td>\n",
       "      <td>364</td>\n",
       "      <td>0.0</td>\n",
       "      <td>1631</td>\n",
       "      <td>1</td>\n",
       "      <td>0.0</td>\n",
       "      <td>0.0</td>\n",
       "    </tr>\n",
       "  </tbody>\n",
       "</table>\n",
       "</div>"
      ],
      "text/plain": [
       "   user_id    basket_id  day  item_id  quantity  sales_value  store_id  \\\n",
       "0     2375  26984851472    1  1004906         1         1.39       364   \n",
       "1     2375  26984851472    1  1033142         1         0.82       364   \n",
       "2     2375  26984851472    1  1036325         1         0.99       364   \n",
       "3     2375  26984851472    1  1082185         1         1.21       364   \n",
       "\n",
       "   retail_disc  trans_time  week_no  coupon_disc  coupon_match_disc  \n",
       "0         -0.6        1631        1          0.0                0.0  \n",
       "1          0.0        1631        1          0.0                0.0  \n",
       "2         -0.3        1631        1          0.0                0.0  \n",
       "3          0.0        1631        1          0.0                0.0  "
      ]
     },
     "execution_count": 3,
     "metadata": {},
     "output_type": "execute_result"
    }
   ],
   "source": [
    "train.head(4)"
   ]
  },
  {
   "cell_type": "code",
   "execution_count": 4,
   "id": "advised-advertising",
   "metadata": {},
   "outputs": [
    {
     "data": {
      "text/html": [
       "<div>\n",
       "<style scoped>\n",
       "    .dataframe tbody tr th:only-of-type {\n",
       "        vertical-align: middle;\n",
       "    }\n",
       "\n",
       "    .dataframe tbody tr th {\n",
       "        vertical-align: top;\n",
       "    }\n",
       "\n",
       "    .dataframe thead th {\n",
       "        text-align: right;\n",
       "    }\n",
       "</style>\n",
       "<table border=\"1\" class=\"dataframe\">\n",
       "  <thead>\n",
       "    <tr style=\"text-align: right;\">\n",
       "      <th></th>\n",
       "      <th>user_id</th>\n",
       "      <th>basket_id</th>\n",
       "      <th>day</th>\n",
       "      <th>item_id</th>\n",
       "      <th>quantity</th>\n",
       "      <th>sales_value</th>\n",
       "      <th>store_id</th>\n",
       "      <th>retail_disc</th>\n",
       "      <th>trans_time</th>\n",
       "      <th>week_no</th>\n",
       "      <th>coupon_disc</th>\n",
       "      <th>coupon_match_disc</th>\n",
       "    </tr>\n",
       "  </thead>\n",
       "  <tbody>\n",
       "    <tr>\n",
       "      <th>0</th>\n",
       "      <td>1340</td>\n",
       "      <td>41652823310</td>\n",
       "      <td>664</td>\n",
       "      <td>912987</td>\n",
       "      <td>1</td>\n",
       "      <td>8.49</td>\n",
       "      <td>446</td>\n",
       "      <td>0.0</td>\n",
       "      <td>52</td>\n",
       "      <td>96</td>\n",
       "      <td>0.0</td>\n",
       "      <td>0.0</td>\n",
       "    </tr>\n",
       "    <tr>\n",
       "      <th>1</th>\n",
       "      <td>588</td>\n",
       "      <td>41652838477</td>\n",
       "      <td>664</td>\n",
       "      <td>1024426</td>\n",
       "      <td>1</td>\n",
       "      <td>6.29</td>\n",
       "      <td>388</td>\n",
       "      <td>0.0</td>\n",
       "      <td>8</td>\n",
       "      <td>96</td>\n",
       "      <td>0.0</td>\n",
       "      <td>0.0</td>\n",
       "    </tr>\n",
       "    <tr>\n",
       "      <th>2</th>\n",
       "      <td>2070</td>\n",
       "      <td>41652857291</td>\n",
       "      <td>664</td>\n",
       "      <td>995242</td>\n",
       "      <td>5</td>\n",
       "      <td>9.10</td>\n",
       "      <td>311</td>\n",
       "      <td>-0.6</td>\n",
       "      <td>46</td>\n",
       "      <td>96</td>\n",
       "      <td>0.0</td>\n",
       "      <td>0.0</td>\n",
       "    </tr>\n",
       "    <tr>\n",
       "      <th>3</th>\n",
       "      <td>1602</td>\n",
       "      <td>41665647035</td>\n",
       "      <td>664</td>\n",
       "      <td>827939</td>\n",
       "      <td>1</td>\n",
       "      <td>7.99</td>\n",
       "      <td>334</td>\n",
       "      <td>0.0</td>\n",
       "      <td>1741</td>\n",
       "      <td>96</td>\n",
       "      <td>0.0</td>\n",
       "      <td>0.0</td>\n",
       "    </tr>\n",
       "  </tbody>\n",
       "</table>\n",
       "</div>"
      ],
      "text/plain": [
       "   user_id    basket_id  day  item_id  quantity  sales_value  store_id  \\\n",
       "0     1340  41652823310  664   912987         1         8.49       446   \n",
       "1      588  41652838477  664  1024426         1         6.29       388   \n",
       "2     2070  41652857291  664   995242         5         9.10       311   \n",
       "3     1602  41665647035  664   827939         1         7.99       334   \n",
       "\n",
       "   retail_disc  trans_time  week_no  coupon_disc  coupon_match_disc  \n",
       "0          0.0          52       96          0.0                0.0  \n",
       "1          0.0           8       96          0.0                0.0  \n",
       "2         -0.6          46       96          0.0                0.0  \n",
       "3          0.0        1741       96          0.0                0.0  "
      ]
     },
     "execution_count": 4,
     "metadata": {},
     "output_type": "execute_result"
    }
   ],
   "source": [
    "test.head(4)"
   ]
  },
  {
   "cell_type": "code",
   "execution_count": 5,
   "id": "fourth-outreach",
   "metadata": {},
   "outputs": [
    {
     "name": "stdout",
     "output_type": "stream",
     "text": [
      "2396804 88734\n"
     ]
    }
   ],
   "source": [
    "print(train.shape[0], test.shape[0])"
   ]
  },
  {
   "cell_type": "code",
   "execution_count": 6,
   "id": "honest-southwest",
   "metadata": {},
   "outputs": [
    {
     "name": "stdout",
     "output_type": "stream",
     "text": [
      "<class 'pandas.core.frame.DataFrame'>\n",
      "RangeIndex: 2396804 entries, 0 to 2396803\n",
      "Data columns (total 12 columns):\n",
      " #   Column             Dtype  \n",
      "---  ------             -----  \n",
      " 0   user_id            int64  \n",
      " 1   basket_id          int64  \n",
      " 2   day                int64  \n",
      " 3   item_id            int64  \n",
      " 4   quantity           int64  \n",
      " 5   sales_value        float64\n",
      " 6   store_id           int64  \n",
      " 7   retail_disc        float64\n",
      " 8   trans_time         int64  \n",
      " 9   week_no            int64  \n",
      " 10  coupon_disc        float64\n",
      " 11  coupon_match_disc  float64\n",
      "dtypes: float64(4), int64(8)\n",
      "memory usage: 219.4 MB\n"
     ]
    }
   ],
   "source": [
    "train.info()"
   ]
  },
  {
   "cell_type": "code",
   "execution_count": 7,
   "id": "fixed-emergency",
   "metadata": {},
   "outputs": [
    {
     "name": "stdout",
     "output_type": "stream",
     "text": [
      "<class 'pandas.core.frame.DataFrame'>\n",
      "RangeIndex: 88734 entries, 0 to 88733\n",
      "Data columns (total 12 columns):\n",
      " #   Column             Non-Null Count  Dtype  \n",
      "---  ------             --------------  -----  \n",
      " 0   user_id            88734 non-null  int64  \n",
      " 1   basket_id          88734 non-null  int64  \n",
      " 2   day                88734 non-null  int64  \n",
      " 3   item_id            88734 non-null  int64  \n",
      " 4   quantity           88734 non-null  int64  \n",
      " 5   sales_value        88734 non-null  float64\n",
      " 6   store_id           88734 non-null  int64  \n",
      " 7   retail_disc        88734 non-null  float64\n",
      " 8   trans_time         88734 non-null  int64  \n",
      " 9   week_no            88734 non-null  int64  \n",
      " 10  coupon_disc        88734 non-null  float64\n",
      " 11  coupon_match_disc  88734 non-null  float64\n",
      "dtypes: float64(4), int64(8)\n",
      "memory usage: 8.1 MB\n"
     ]
    }
   ],
   "source": [
    "test.info()"
   ]
  },
  {
   "cell_type": "markdown",
   "id": "streaming-gospel",
   "metadata": {},
   "source": [
    "__Проверка на пропуски__"
   ]
  },
  {
   "cell_type": "code",
   "execution_count": 8,
   "id": "perceived-scoop",
   "metadata": {},
   "outputs": [
    {
     "data": {
      "text/plain": [
       "user_id              0\n",
       "basket_id            0\n",
       "day                  0\n",
       "item_id              0\n",
       "quantity             0\n",
       "sales_value          0\n",
       "store_id             0\n",
       "retail_disc          0\n",
       "trans_time           0\n",
       "week_no              0\n",
       "coupon_disc          0\n",
       "coupon_match_disc    0\n",
       "dtype: int64"
      ]
     },
     "execution_count": 8,
     "metadata": {},
     "output_type": "execute_result"
    }
   ],
   "source": [
    "train.isna().sum()"
   ]
  },
  {
   "cell_type": "code",
   "execution_count": 9,
   "id": "recovered-delay",
   "metadata": {},
   "outputs": [
    {
     "data": {
      "text/plain": [
       "user_id              0\n",
       "basket_id            0\n",
       "day                  0\n",
       "item_id              0\n",
       "quantity             0\n",
       "sales_value          0\n",
       "store_id             0\n",
       "retail_disc          0\n",
       "trans_time           0\n",
       "week_no              0\n",
       "coupon_disc          0\n",
       "coupon_match_disc    0\n",
       "dtype: int64"
      ]
     },
     "execution_count": 9,
     "metadata": {},
     "output_type": "execute_result"
    }
   ],
   "source": [
    "test.isna().sum()"
   ]
  },
  {
   "cell_type": "markdown",
   "id": "romantic-sacrifice",
   "metadata": {},
   "source": [
    "__Обработаем столбцы__"
   ]
  },
  {
   "cell_type": "code",
   "execution_count": 10,
   "id": "attended-rates",
   "metadata": {},
   "outputs": [],
   "source": [
    "# column processing\n",
    "item_features.columns = [col.lower() for col in item_features.columns]\n",
    "user_features.columns = [col.lower() for col in user_features.columns]\n",
    "\n",
    "item_features.rename(columns={'product_id': 'item_id'}, inplace=True)\n",
    "user_features.rename(columns={'household_key': 'user_id'}, inplace=True)"
   ]
  },
  {
   "cell_type": "markdown",
   "id": "twelve-exclusion",
   "metadata": {},
   "source": [
    "__Применим фильтрацию__"
   ]
  },
  {
   "cell_type": "code",
   "execution_count": 11,
   "id": "wired-clear",
   "metadata": {},
   "outputs": [],
   "source": [
    "VAL_SIZE = 5\n",
    "\n",
    "train_1 = train[train['week_no'] < train['week_no'].max() - (VAL_SIZE)]\n",
    "val_1 = train[train['week_no'] >= train['week_no'].max() - (VAL_SIZE)]\n",
    "\n",
    "train_2 = val_1.copy()"
   ]
  },
  {
   "cell_type": "code",
   "execution_count": 12,
   "id": "circular-kinase",
   "metadata": {},
   "outputs": [
    {
     "name": "stdout",
     "output_type": "stream",
     "text": [
      "Decreased # items from 85828 to 201\n"
     ]
    }
   ],
   "source": [
    "n_items_before = train_1['item_id'].nunique()\n",
    "train_1 = prefilter_items(train_1, item_features=item_features, take_n_popular=200)\n",
    "n_items_after = train_1['item_id'].nunique()\n",
    "\n",
    "print(f'Decreased # items from {n_items_before} to {n_items_after}')"
   ]
  },
  {
   "cell_type": "code",
   "execution_count": 13,
   "id": "developed-angel",
   "metadata": {},
   "outputs": [
    {
     "name": "stderr",
     "output_type": "stream",
     "text": [
      "WARNING:root:Intel MKL BLAS detected. Its highly recommend to set the environment variable 'export MKL_NUM_THREADS=1' to disable its internal multithreading\n"
     ]
    },
    {
     "data": {
      "application/vnd.jupyter.widget-view+json": {
       "model_id": "bef8503a6e4344b8bdc6c1049176eb92",
       "version_major": 2,
       "version_minor": 0
      },
      "text/plain": [
       "  0%|          | 0/20 [00:00<?, ?it/s]"
      ]
     },
     "metadata": {},
     "output_type": "display_data"
    },
    {
     "data": {
      "application/vnd.jupyter.widget-view+json": {
       "model_id": "1f8aa8b69d0b44db945f7e25a8e01d57",
       "version_major": 2,
       "version_minor": 0
      },
      "text/plain": [
       "  0%|          | 0/201 [00:00<?, ?it/s]"
      ]
     },
     "metadata": {},
     "output_type": "display_data"
    }
   ],
   "source": [
    "recommender = MainRecommender(train_1)"
   ]
  },
  {
   "cell_type": "markdown",
   "id": "ceramic-chart",
   "metadata": {},
   "source": [
    "__Сделаем эмбеддинг товаров и юзеров__"
   ]
  },
  {
   "cell_type": "code",
   "execution_count": 14,
   "id": "conscious-responsibility",
   "metadata": {},
   "outputs": [],
   "source": [
    "items_emb_df = recommender.items_emb_df\n",
    "users_emb_df = recommender.users_emb_df"
   ]
  },
  {
   "cell_type": "markdown",
   "id": "aware-eleven",
   "metadata": {},
   "source": [
    "__Напишем функции для генерации новых фич__"
   ]
  },
  {
   "cell_type": "code",
   "execution_count": 15,
   "id": "exempt-equation",
   "metadata": {},
   "outputs": [],
   "source": [
    "def new_item_features(data, item_features, items_emb_df):\n",
    "    \"\"\"Новые признаки для продуктов\"\"\"\n",
    "\n",
    "    new_item_features = item_features.merge(data, on='item_id', how='left')\n",
    "    \n",
    "    # Добавим эмбеддинг\n",
    "    item_features = item_features.merge(items_emb_df, how='left')\n",
    "\n",
    "    \n",
    "    # discount\n",
    "    mean_disc = new_item_features.groupby('item_id')['coupon_disc'].mean().reset_index().sort_values('coupon_disc')\n",
    "    item_features = item_features.merge(mean_disc, on='item_id', how='left')\n",
    "    \n",
    "\n",
    "    # manufacturer\n",
    "    rare_manufacturer = item_features.manufacturer.value_counts()[item_features.manufacturer.value_counts() < 50].index\n",
    "    item_features.loc[item_features.manufacturer.isin(rare_manufacturer), 'manufacturer'] = 999999999\n",
    "    item_features.manufacturer = item_features.manufacturer.astype('object')\n",
    "    \n",
    "\n",
    "    # Количество продаж и среднее количество продаж товара\n",
    "    item_qnt = new_item_features.groupby(['item_id'])['quantity'].count().reset_index()\n",
    "    item_qnt.rename(columns={'quantity': 'quantity_of_sales'}, inplace=True)\n",
    "\n",
    "    item_qnt['quantity_of_sales_per_week'] = item_qnt['quantity_of_sales'] / new_item_features['week_no'].nunique()\n",
    "    item_features = item_features.merge(item_qnt, on='item_id', how='left')\n",
    "    \n",
    "\n",
    "    # Среднее количество продаж товара в категории за неделю\n",
    "    items_in_department = new_item_features.groupby('department')['item_id'].count().reset_index().sort_values(\n",
    "        'item_id', ascending=False\n",
    "    )\n",
    "    items_in_department.rename(columns={'item_id': 'items_in_department'}, inplace=True)\n",
    "\n",
    "    qnt_of_sales_per_dep = new_item_features.groupby(['department'])['quantity'].count().reset_index().sort_values(\n",
    "        'quantity', ascending=False\n",
    "    )\n",
    "    qnt_of_sales_per_dep.rename(columns={'quantity': 'qnt_of_sales_per_dep'}, inplace=True)\n",
    "\n",
    "\n",
    "    items_in_department = items_in_department.merge(qnt_of_sales_per_dep, on='department')\n",
    "    items_in_department['qnt_of_sales_per_item_per_dep_per_week'] = (\n",
    "        items_in_department['qnt_of_sales_per_dep'] / \n",
    "        items_in_department['items_in_department'] / \n",
    "        new_item_features['week_no'].nunique()\n",
    "    )\n",
    "    items_in_department = items_in_department.drop(['items_in_department'], axis=1)\n",
    "    item_features = item_features.merge(items_in_department, on=['department'], how='left')\n",
    "    \n",
    "\n",
    "    # sub_commodity_desc\n",
    "    items_in_department = new_item_features.groupby('sub_commodity_desc')['item_id'].count().reset_index().sort_values(\n",
    "        'item_id', ascending=False\n",
    "    )\n",
    "    items_in_department.rename(columns={'item_id': 'items_in_sub_commodity_desc'}, inplace=True)\n",
    "\n",
    "    qnt_of_sales_per_dep = new_item_features.groupby(['sub_commodity_desc'])['quantity'].count().reset_index().sort_values(\n",
    "        'quantity', ascending=False\n",
    "    )\n",
    "    qnt_of_sales_per_dep.rename(columns={'quantity': 'qnt_of_sales_per_sub_commodity_desc'}, inplace=True)\n",
    "\n",
    "\n",
    "    items_in_department = items_in_department.merge(qnt_of_sales_per_dep, on='sub_commodity_desc')\n",
    "    items_in_department['qnt_of_sales_per_item_per_sub_commodity_desc_per_week'] = (\n",
    "        items_in_department['qnt_of_sales_per_sub_commodity_desc'] / \n",
    "        items_in_department['items_in_sub_commodity_desc'] / \n",
    "        new_item_features['week_no'].nunique()\n",
    "    )\n",
    "    items_in_department = items_in_department.drop(['items_in_sub_commodity_desc'], axis=1)\n",
    "    item_features = item_features.merge(items_in_department, on=['sub_commodity_desc'], how='left')\n",
    "    \n",
    "    return item_features"
   ]
  },
  {
   "cell_type": "code",
   "execution_count": 16,
   "id": "prepared-interval",
   "metadata": {},
   "outputs": [],
   "source": [
    "def new_user_features(data, user_features, users_emb_df):\n",
    "    \"\"\"Новые признаки для пользователей\"\"\"\n",
    "\n",
    "    new_user_features = user_features.merge(data, on='user_id', how='left')\n",
    "    \n",
    "    # Добавим эмбеддинг\n",
    "    user_features = user_features.merge(users_emb_df, how='left')\n",
    "    \n",
    "\n",
    "    # Обычное время покупки\n",
    "    time = new_user_features.groupby('user_id')['trans_time'].mean().reset_index()\n",
    "    time.rename(columns={'trans_time': 'mean_time'}, inplace=True)\n",
    "    time = time.astype(np.float32)\n",
    "    user_features = user_features.merge(time, how='left')\n",
    "    \n",
    "\n",
    "    # Возраст\n",
    "    user_features['age'] = user_features['age_desc'].replace(\n",
    "        {'65+': 70, '45-54': 50, '25-34': 30, '35-44': 40, '19-24':20, '55-64':60}\n",
    "    )\n",
    "    user_features = user_features.drop('age_desc', axis=1)\n",
    "    \n",
    "\n",
    "    # Доход\n",
    "    user_features['income'] = user_features['income_desc'].replace(\n",
    "        {'35-49K': 45,\n",
    "     '50-74K': 70,\n",
    "     '25-34K': 30,\n",
    "     '75-99K': 95,\n",
    "     'Under 15K': 15,\n",
    "     '100-124K': 120,\n",
    "     '15-24K': 20,\n",
    "     '125-149K': 145,\n",
    "     '150-174K': 170,\n",
    "     '250K+': 250,\n",
    "     '175-199K': 195,\n",
    "     '200-249K': 245}\n",
    "    )\n",
    "    user_features = user_features.drop('income_desc', axis=1)\n",
    "    \n",
    "\n",
    "    # Дети\n",
    "    user_features['kids'] = 0\n",
    "    user_features.loc[(user_features['kid_category_desc'] == '1'), 'kids'] = 1\n",
    "    user_features.loc[(user_features['kid_category_desc'] == '2'), 'kids'] = 2\n",
    "    user_features.loc[(user_features['kid_category_desc'] == '3'), 'kids'] = 3\n",
    "    user_features = user_features.drop('kid_category_desc', axis=1)\n",
    "    \n",
    "\n",
    "    # Средний чек, средний чек в неделю\n",
    "    basket = new_user_features.groupby(['user_id'])['sales_value'].sum().reset_index()\n",
    "\n",
    "    baskets_qnt = new_user_features.groupby('user_id')['basket_id'].count().reset_index()\n",
    "    baskets_qnt.rename(columns={'basket_id': 'baskets_qnt'}, inplace=True)\n",
    "\n",
    "    average_basket = basket.merge(baskets_qnt)\n",
    "\n",
    "    average_basket['average_basket'] = average_basket.sales_value / average_basket.baskets_qnt\n",
    "    average_basket['sum_per_week'] = average_basket.sales_value / new_user_features.week_no.nunique()\n",
    "\n",
    "    average_basket = average_basket.drop(['sales_value', 'baskets_qnt'], axis=1)\n",
    "    user_features = user_features.merge(average_basket, how='left')\n",
    "\n",
    "    return user_features"
   ]
  },
  {
   "cell_type": "code",
   "execution_count": 17,
   "id": "reduced-battery",
   "metadata": {},
   "outputs": [
    {
     "data": {
      "text/html": [
       "<div>\n",
       "<style scoped>\n",
       "    .dataframe tbody tr th:only-of-type {\n",
       "        vertical-align: middle;\n",
       "    }\n",
       "\n",
       "    .dataframe tbody tr th {\n",
       "        vertical-align: top;\n",
       "    }\n",
       "\n",
       "    .dataframe thead th {\n",
       "        text-align: right;\n",
       "    }\n",
       "</style>\n",
       "<table border=\"1\" class=\"dataframe\">\n",
       "  <thead>\n",
       "    <tr style=\"text-align: right;\">\n",
       "      <th></th>\n",
       "      <th>item_id</th>\n",
       "      <th>manufacturer</th>\n",
       "      <th>department</th>\n",
       "      <th>brand</th>\n",
       "      <th>commodity_desc</th>\n",
       "      <th>sub_commodity_desc</th>\n",
       "      <th>curr_size_of_product</th>\n",
       "      <th>0</th>\n",
       "      <th>1</th>\n",
       "      <th>2</th>\n",
       "      <th>...</th>\n",
       "      <th>12</th>\n",
       "      <th>13</th>\n",
       "      <th>14</th>\n",
       "      <th>coupon_disc</th>\n",
       "      <th>quantity_of_sales</th>\n",
       "      <th>quantity_of_sales_per_week</th>\n",
       "      <th>qnt_of_sales_per_dep</th>\n",
       "      <th>qnt_of_sales_per_item_per_dep_per_week</th>\n",
       "      <th>qnt_of_sales_per_sub_commodity_desc</th>\n",
       "      <th>qnt_of_sales_per_item_per_sub_commodity_desc_per_week</th>\n",
       "    </tr>\n",
       "  </thead>\n",
       "  <tbody>\n",
       "    <tr>\n",
       "      <th>0</th>\n",
       "      <td>25671</td>\n",
       "      <td>2</td>\n",
       "      <td>GROCERY</td>\n",
       "      <td>National</td>\n",
       "      <td>FRZN ICE</td>\n",
       "      <td>ICE - CRUSHED/CUBED</td>\n",
       "      <td>22 LB</td>\n",
       "      <td>NaN</td>\n",
       "      <td>NaN</td>\n",
       "      <td>NaN</td>\n",
       "      <td>...</td>\n",
       "      <td>NaN</td>\n",
       "      <td>NaN</td>\n",
       "      <td>NaN</td>\n",
       "      <td>NaN</td>\n",
       "      <td>0</td>\n",
       "      <td>0.0</td>\n",
       "      <td>112255</td>\n",
       "      <td>0.137313</td>\n",
       "      <td>101</td>\n",
       "      <td>0.134667</td>\n",
       "    </tr>\n",
       "    <tr>\n",
       "      <th>1</th>\n",
       "      <td>26081</td>\n",
       "      <td>2</td>\n",
       "      <td>MISC. TRANS.</td>\n",
       "      <td>National</td>\n",
       "      <td>NO COMMODITY DESCRIPTION</td>\n",
       "      <td>NO SUBCOMMODITY DESCRIPTION</td>\n",
       "      <td></td>\n",
       "      <td>NaN</td>\n",
       "      <td>NaN</td>\n",
       "      <td>NaN</td>\n",
       "      <td>...</td>\n",
       "      <td>NaN</td>\n",
       "      <td>NaN</td>\n",
       "      <td>NaN</td>\n",
       "      <td>NaN</td>\n",
       "      <td>0</td>\n",
       "      <td>0.0</td>\n",
       "      <td>226</td>\n",
       "      <td>0.058580</td>\n",
       "      <td>225</td>\n",
       "      <td>0.064433</td>\n",
       "    </tr>\n",
       "    <tr>\n",
       "      <th>2</th>\n",
       "      <td>26093</td>\n",
       "      <td>69</td>\n",
       "      <td>PASTRY</td>\n",
       "      <td>Private</td>\n",
       "      <td>BREAD</td>\n",
       "      <td>BREAD:ITALIAN/FRENCH</td>\n",
       "      <td></td>\n",
       "      <td>NaN</td>\n",
       "      <td>NaN</td>\n",
       "      <td>NaN</td>\n",
       "      <td>...</td>\n",
       "      <td>NaN</td>\n",
       "      <td>NaN</td>\n",
       "      <td>NaN</td>\n",
       "      <td>NaN</td>\n",
       "      <td>0</td>\n",
       "      <td>0.0</td>\n",
       "      <td>2436</td>\n",
       "      <td>0.102267</td>\n",
       "      <td>356</td>\n",
       "      <td>0.140268</td>\n",
       "    </tr>\n",
       "    <tr>\n",
       "      <th>3</th>\n",
       "      <td>26190</td>\n",
       "      <td>69</td>\n",
       "      <td>GROCERY</td>\n",
       "      <td>Private</td>\n",
       "      <td>FRUIT - SHELF STABLE</td>\n",
       "      <td>APPLE SAUCE</td>\n",
       "      <td>50 OZ</td>\n",
       "      <td>NaN</td>\n",
       "      <td>NaN</td>\n",
       "      <td>NaN</td>\n",
       "      <td>...</td>\n",
       "      <td>NaN</td>\n",
       "      <td>NaN</td>\n",
       "      <td>NaN</td>\n",
       "      <td>NaN</td>\n",
       "      <td>0</td>\n",
       "      <td>0.0</td>\n",
       "      <td>112255</td>\n",
       "      <td>0.137313</td>\n",
       "      <td>141</td>\n",
       "      <td>0.141566</td>\n",
       "    </tr>\n",
       "  </tbody>\n",
       "</table>\n",
       "<p>4 rows × 29 columns</p>\n",
       "</div>"
      ],
      "text/plain": [
       "   item_id manufacturer    department     brand            commodity_desc  \\\n",
       "0    25671            2       GROCERY  National                  FRZN ICE   \n",
       "1    26081            2  MISC. TRANS.  National  NO COMMODITY DESCRIPTION   \n",
       "2    26093           69        PASTRY   Private                     BREAD   \n",
       "3    26190           69       GROCERY   Private      FRUIT - SHELF STABLE   \n",
       "\n",
       "            sub_commodity_desc curr_size_of_product   0   1   2  ...  12  13  \\\n",
       "0          ICE - CRUSHED/CUBED                22 LB NaN NaN NaN  ... NaN NaN   \n",
       "1  NO SUBCOMMODITY DESCRIPTION                      NaN NaN NaN  ... NaN NaN   \n",
       "2         BREAD:ITALIAN/FRENCH                      NaN NaN NaN  ... NaN NaN   \n",
       "3                  APPLE SAUCE                50 OZ NaN NaN NaN  ... NaN NaN   \n",
       "\n",
       "   14  coupon_disc  quantity_of_sales  quantity_of_sales_per_week  \\\n",
       "0 NaN          NaN                  0                         0.0   \n",
       "1 NaN          NaN                  0                         0.0   \n",
       "2 NaN          NaN                  0                         0.0   \n",
       "3 NaN          NaN                  0                         0.0   \n",
       "\n",
       "   qnt_of_sales_per_dep  qnt_of_sales_per_item_per_dep_per_week  \\\n",
       "0                112255                                0.137313   \n",
       "1                   226                                0.058580   \n",
       "2                  2436                                0.102267   \n",
       "3                112255                                0.137313   \n",
       "\n",
       "   qnt_of_sales_per_sub_commodity_desc  \\\n",
       "0                                  101   \n",
       "1                                  225   \n",
       "2                                  356   \n",
       "3                                  141   \n",
       "\n",
       "   qnt_of_sales_per_item_per_sub_commodity_desc_per_week  \n",
       "0                                           0.134667      \n",
       "1                                           0.064433      \n",
       "2                                           0.140268      \n",
       "3                                           0.141566      \n",
       "\n",
       "[4 rows x 29 columns]"
      ]
     },
     "execution_count": 17,
     "metadata": {},
     "output_type": "execute_result"
    }
   ],
   "source": [
    "item_features = new_item_features(train_2, item_features, items_emb_df)\n",
    "item_features.head(4)"
   ]
  },
  {
   "cell_type": "code",
   "execution_count": 18,
   "id": "stylish-bangladesh",
   "metadata": {},
   "outputs": [
    {
     "data": {
      "text/html": [
       "<div>\n",
       "<style scoped>\n",
       "    .dataframe tbody tr th:only-of-type {\n",
       "        vertical-align: middle;\n",
       "    }\n",
       "\n",
       "    .dataframe tbody tr th {\n",
       "        vertical-align: top;\n",
       "    }\n",
       "\n",
       "    .dataframe thead th {\n",
       "        text-align: right;\n",
       "    }\n",
       "</style>\n",
       "<table border=\"1\" class=\"dataframe\">\n",
       "  <thead>\n",
       "    <tr style=\"text-align: right;\">\n",
       "      <th></th>\n",
       "      <th>marital_status_code</th>\n",
       "      <th>homeowner_desc</th>\n",
       "      <th>hh_comp_desc</th>\n",
       "      <th>household_size_desc</th>\n",
       "      <th>user_id</th>\n",
       "      <th>0</th>\n",
       "      <th>1</th>\n",
       "      <th>2</th>\n",
       "      <th>3</th>\n",
       "      <th>4</th>\n",
       "      <th>...</th>\n",
       "      <th>11</th>\n",
       "      <th>12</th>\n",
       "      <th>13</th>\n",
       "      <th>14</th>\n",
       "      <th>mean_time</th>\n",
       "      <th>age</th>\n",
       "      <th>income</th>\n",
       "      <th>kids</th>\n",
       "      <th>average_basket</th>\n",
       "      <th>sum_per_week</th>\n",
       "    </tr>\n",
       "  </thead>\n",
       "  <tbody>\n",
       "    <tr>\n",
       "      <th>0</th>\n",
       "      <td>A</td>\n",
       "      <td>Homeowner</td>\n",
       "      <td>2 Adults No Kids</td>\n",
       "      <td>2</td>\n",
       "      <td>1</td>\n",
       "      <td>4.860968</td>\n",
       "      <td>20.688519</td>\n",
       "      <td>4.658322</td>\n",
       "      <td>13.580238</td>\n",
       "      <td>-2.266062</td>\n",
       "      <td>...</td>\n",
       "      <td>20.169758</td>\n",
       "      <td>18.893497</td>\n",
       "      <td>-3.333689</td>\n",
       "      <td>1.003967</td>\n",
       "      <td>1324.803711</td>\n",
       "      <td>70</td>\n",
       "      <td>45</td>\n",
       "      <td>0</td>\n",
       "      <td>2.487290</td>\n",
       "      <td>44.356667</td>\n",
       "    </tr>\n",
       "    <tr>\n",
       "      <th>1</th>\n",
       "      <td>A</td>\n",
       "      <td>Homeowner</td>\n",
       "      <td>2 Adults No Kids</td>\n",
       "      <td>2</td>\n",
       "      <td>7</td>\n",
       "      <td>12.806444</td>\n",
       "      <td>12.456957</td>\n",
       "      <td>14.804470</td>\n",
       "      <td>8.668700</td>\n",
       "      <td>2.656750</td>\n",
       "      <td>...</td>\n",
       "      <td>-8.434517</td>\n",
       "      <td>14.779305</td>\n",
       "      <td>10.636637</td>\n",
       "      <td>11.172967</td>\n",
       "      <td>1622.862915</td>\n",
       "      <td>50</td>\n",
       "      <td>70</td>\n",
       "      <td>0</td>\n",
       "      <td>2.547257</td>\n",
       "      <td>74.295000</td>\n",
       "    </tr>\n",
       "    <tr>\n",
       "      <th>2</th>\n",
       "      <td>U</td>\n",
       "      <td>Unknown</td>\n",
       "      <td>2 Adults Kids</td>\n",
       "      <td>3</td>\n",
       "      <td>8</td>\n",
       "      <td>14.641075</td>\n",
       "      <td>3.815117</td>\n",
       "      <td>10.573400</td>\n",
       "      <td>1.016455</td>\n",
       "      <td>12.063002</td>\n",
       "      <td>...</td>\n",
       "      <td>8.317652</td>\n",
       "      <td>5.887170</td>\n",
       "      <td>16.699127</td>\n",
       "      <td>9.250943</td>\n",
       "      <td>1824.990112</td>\n",
       "      <td>30</td>\n",
       "      <td>30</td>\n",
       "      <td>1</td>\n",
       "      <td>2.413793</td>\n",
       "      <td>81.666667</td>\n",
       "    </tr>\n",
       "    <tr>\n",
       "      <th>3</th>\n",
       "      <td>U</td>\n",
       "      <td>Homeowner</td>\n",
       "      <td>2 Adults Kids</td>\n",
       "      <td>4</td>\n",
       "      <td>13</td>\n",
       "      <td>7.826128</td>\n",
       "      <td>2.127095</td>\n",
       "      <td>15.921530</td>\n",
       "      <td>2.852006</td>\n",
       "      <td>10.092723</td>\n",
       "      <td>...</td>\n",
       "      <td>15.939384</td>\n",
       "      <td>9.885500</td>\n",
       "      <td>24.726446</td>\n",
       "      <td>2.252765</td>\n",
       "      <td>1608.363647</td>\n",
       "      <td>30</td>\n",
       "      <td>95</td>\n",
       "      <td>2</td>\n",
       "      <td>6.446182</td>\n",
       "      <td>177.270000</td>\n",
       "    </tr>\n",
       "  </tbody>\n",
       "</table>\n",
       "<p>4 rows × 26 columns</p>\n",
       "</div>"
      ],
      "text/plain": [
       "  marital_status_code homeowner_desc      hh_comp_desc household_size_desc  \\\n",
       "0                   A      Homeowner  2 Adults No Kids                   2   \n",
       "1                   A      Homeowner  2 Adults No Kids                   2   \n",
       "2                   U        Unknown     2 Adults Kids                   3   \n",
       "3                   U      Homeowner     2 Adults Kids                   4   \n",
       "\n",
       "   user_id          0          1          2          3          4  ...  \\\n",
       "0        1   4.860968  20.688519   4.658322  13.580238  -2.266062  ...   \n",
       "1        7  12.806444  12.456957  14.804470   8.668700   2.656750  ...   \n",
       "2        8  14.641075   3.815117  10.573400   1.016455  12.063002  ...   \n",
       "3       13   7.826128   2.127095  15.921530   2.852006  10.092723  ...   \n",
       "\n",
       "          11         12         13         14    mean_time  age  income  kids  \\\n",
       "0  20.169758  18.893497  -3.333689   1.003967  1324.803711   70      45     0   \n",
       "1  -8.434517  14.779305  10.636637  11.172967  1622.862915   50      70     0   \n",
       "2   8.317652   5.887170  16.699127   9.250943  1824.990112   30      30     1   \n",
       "3  15.939384   9.885500  24.726446   2.252765  1608.363647   30      95     2   \n",
       "\n",
       "   average_basket  sum_per_week  \n",
       "0        2.487290     44.356667  \n",
       "1        2.547257     74.295000  \n",
       "2        2.413793     81.666667  \n",
       "3        6.446182    177.270000  \n",
       "\n",
       "[4 rows x 26 columns]"
      ]
     },
     "execution_count": 18,
     "metadata": {},
     "output_type": "execute_result"
    }
   ],
   "source": [
    "user_features = new_user_features(train_2, user_features, users_emb_df)\n",
    "user_features.head(4)"
   ]
  },
  {
   "cell_type": "markdown",
   "id": "agricultural-cleaner",
   "metadata": {},
   "source": [
    "__Разделим данные__"
   ]
  },
  {
   "cell_type": "code",
   "execution_count": 19,
   "id": "continued-girlfriend",
   "metadata": {},
   "outputs": [],
   "source": [
    "def train_test_preprocessing(data, train_1, recommender, item_features, user_features):\n",
    "    \"\"\"Подготовка обучающего и валидационного датасетов, разбиение на X и y\"\"\"\n",
    "    \n",
    "    users = pd.DataFrame(data['user_id'].unique())\n",
    "\n",
    "    users.columns = ['user_id']\n",
    "\n",
    "    # Пока только warm start\n",
    "    train_users = train_1['user_id'].unique()\n",
    "    users = users[users['user_id'].isin(train_users)]\n",
    "    \n",
    "    # Рекомендации на основе собственных покупок\n",
    "    users = users.copy()\n",
    "    users['candidates'] = users['user_id'].apply(\n",
    "        lambda x: recommender.get_own_recommendations(x, N=10))\n",
    "\n",
    "    s = users.apply(\n",
    "        lambda x: pd.Series(x['candidates']), axis=1\n",
    "    ).stack().reset_index(level=1, drop=True)\n",
    "\n",
    "    s.name = 'item_id'\n",
    "\n",
    "    users = users.drop('candidates', axis=1).join(s)\n",
    "\n",
    "    users['flag'] = 1\n",
    "\n",
    "    targets = data[['user_id', 'item_id']].copy()\n",
    "    targets.head(2)\n",
    "\n",
    "    targets['target'] = 1 \n",
    "\n",
    "    targets = users.merge(targets, on=['user_id', 'item_id'], how='left')\n",
    "\n",
    "    targets['target'].fillna(0, inplace= True)\n",
    "    targets.drop('flag', axis=1, inplace=True)\n",
    "    targets = targets.drop_duplicates()      \n",
    "\n",
    "    targets = targets.merge(item_features, on='item_id', how='left')\n",
    "    targets = targets.merge(user_features, on='user_id', how='left')\n",
    "\n",
    "    X = targets.drop('target', axis=1)\n",
    "    y = targets['target']\n",
    "    \n",
    "    return X, y"
   ]
  },
  {
   "cell_type": "code",
   "execution_count": 20,
   "id": "charitable-scanning",
   "metadata": {},
   "outputs": [],
   "source": [
    "X_train, y_train = train_test_preprocessing(train_2, train_1, recommender, item_features, user_features)"
   ]
  },
  {
   "cell_type": "code",
   "execution_count": 21,
   "id": "described-collins",
   "metadata": {},
   "outputs": [
    {
     "data": {
      "text/plain": [
       "['manufacturer',\n",
       " 'department',\n",
       " 'brand',\n",
       " 'commodity_desc',\n",
       " 'sub_commodity_desc',\n",
       " 'curr_size_of_product',\n",
       " 'marital_status_code',\n",
       " 'homeowner_desc',\n",
       " 'hh_comp_desc',\n",
       " 'household_size_desc']"
      ]
     },
     "execution_count": 21,
     "metadata": {},
     "output_type": "execute_result"
    }
   ],
   "source": [
    "cat_features = X_train.select_dtypes(include=['object']).columns.tolist()\n",
    "cat_features"
   ]
  },
  {
   "cell_type": "code",
   "execution_count": 22,
   "id": "political-lincoln",
   "metadata": {},
   "outputs": [],
   "source": [
    "X_train[cat_features + ['user_id', 'item_id']] = X_train[cat_features + ['user_id', 'item_id']].astype('category')"
   ]
  },
  {
   "cell_type": "code",
   "execution_count": 23,
   "id": "canadian-aviation",
   "metadata": {},
   "outputs": [],
   "source": [
    "X_test, y_test = train_test_preprocessing(test, train_1, recommender, item_features, user_features)\n",
    "X_test[cat_features + ['user_id', 'item_id']] = X_test[cat_features + ['user_id', 'item_id']].astype('category')"
   ]
  },
  {
   "cell_type": "markdown",
   "id": "infectious-cream",
   "metadata": {},
   "source": [
    "__Обучение__"
   ]
  },
  {
   "cell_type": "code",
   "execution_count": 24,
   "id": "stuck-welcome",
   "metadata": {},
   "outputs": [],
   "source": [
    "lgbc = LGBMClassifier(objective='binary', categorical_feature = cat_features)"
   ]
  },
  {
   "cell_type": "code",
   "execution_count": 25,
   "id": "dominant-massachusetts",
   "metadata": {},
   "outputs": [],
   "source": [
    "def get_important_features(model, X_train, y_train):\n",
    "    \"\"\"Список важных признаков\"\"\"\n",
    "    \n",
    "    model.fit(X_train, y_train)\n",
    "    feature_imp = list(zip(X_train.columns.tolist(), model.feature_importances_))\n",
    "    feature_imp = pd.DataFrame(feature_imp, columns=['feature', 'value'])\n",
    "    basic_feats = feature_imp.loc[feature_imp.value > 0, 'feature'].tolist()\n",
    "    return basic_feats"
   ]
  },
  {
   "cell_type": "code",
   "execution_count": 26,
   "id": "cathedral-scratch",
   "metadata": {},
   "outputs": [
    {
     "data": {
      "text/plain": [
       "['user_id',\n",
       " 'item_id',\n",
       " 'brand',\n",
       " 'commodity_desc',\n",
       " 'sub_commodity_desc',\n",
       " 'curr_size_of_product',\n",
       " '0_x',\n",
       " '1_x',\n",
       " '2_x',\n",
       " '3_x',\n",
       " '4_x',\n",
       " '5_x',\n",
       " '6_x',\n",
       " '7_x',\n",
       " '8_x',\n",
       " '9_x',\n",
       " '10_x',\n",
       " '11_x',\n",
       " '12_x',\n",
       " '13_x',\n",
       " '14_x',\n",
       " 'coupon_disc',\n",
       " 'quantity_of_sales',\n",
       " 'qnt_of_sales_per_dep',\n",
       " 'qnt_of_sales_per_item_per_dep_per_week',\n",
       " 'qnt_of_sales_per_sub_commodity_desc',\n",
       " 'qnt_of_sales_per_item_per_sub_commodity_desc_per_week',\n",
       " 'marital_status_code',\n",
       " 'hh_comp_desc',\n",
       " 'household_size_desc',\n",
       " '0_y',\n",
       " '1_y',\n",
       " '2_y',\n",
       " '3_y',\n",
       " '4_y',\n",
       " '5_y',\n",
       " '6_y',\n",
       " '7_y',\n",
       " '8_y',\n",
       " '9_y',\n",
       " '10_y',\n",
       " '11_y',\n",
       " '12_y',\n",
       " '13_y',\n",
       " '14_y',\n",
       " 'mean_time',\n",
       " 'age',\n",
       " 'income',\n",
       " 'kids',\n",
       " 'average_basket',\n",
       " 'sum_per_week']"
      ]
     },
     "execution_count": 26,
     "metadata": {},
     "output_type": "execute_result"
    }
   ],
   "source": [
    "basic_features = get_important_features(lgbc, X_train, y_train)\n",
    "basic_features"
   ]
  },
  {
   "cell_type": "code",
   "execution_count": 27,
   "id": "personal-fossil",
   "metadata": {},
   "outputs": [
    {
     "data": {
      "text/plain": [
       "LGBMClassifier(categorical_feature=['manufacturer', 'department', 'brand',\n",
       "                                    'commodity_desc', 'sub_commodity_desc',\n",
       "                                    'curr_size_of_product',\n",
       "                                    'marital_status_code', 'homeowner_desc',\n",
       "                                    'hh_comp_desc', 'household_size_desc'],\n",
       "               n_estimators=525)"
      ]
     },
     "execution_count": 27,
     "metadata": {},
     "output_type": "execute_result"
    }
   ],
   "source": [
    "lgbc = LGBMClassifier(categorical_feature=cat_features, n_estimators=525)\n",
    "lgbc.fit(X_train[basic_features], y_train)"
   ]
  },
  {
   "cell_type": "code",
   "execution_count": 28,
   "id": "developmental-depth",
   "metadata": {},
   "outputs": [],
   "source": [
    "def get_final_recomendation(X_test, test_preds_proba, val_2, train_1):\n",
    "    \"\"\"Финальный список рекомендованных товаров\"\"\"\n",
    "    \n",
    "    X_test['predict_proba'] = test_preds_proba\n",
    "\n",
    "    X_test.sort_values(['user_id', 'predict_proba'], ascending=False, inplace=True)\n",
    "\n",
    "    result = X_test.groupby('user_id').head(5)\n",
    "\n",
    "    recs = result.groupby('user_id')['item_id']\n",
    "    recomendations = []\n",
    "    for user, preds in recs:\n",
    "        recomendations.append({'user_id': user, 'recomendations': preds.tolist()})\n",
    "\n",
    "    recomendations = pd.DataFrame(recomendations)\n",
    "\n",
    "    result_2 = val_2.groupby('user_id')['item_id'].unique().reset_index()\n",
    "    result_2.columns=['user_id', 'actual']\n",
    "\n",
    "    result = result_2.merge(recomendations, how='left')\n",
    "\n",
    "    cold_users = np.setdiff1d(val_2['user_id'], train_1['user_id']).tolist()\n",
    "\n",
    "    popular_recs = popularity_recommendation(train_1, n=5)\n",
    "    result.loc[result['user_id'].isin(cold_users), 'recomendations'] = result['user_id'].apply(lambda x: popular_recs)\n",
    "   \n",
    "    return result"
   ]
  },
  {
   "cell_type": "code",
   "execution_count": 29,
   "id": "arctic-tunisia",
   "metadata": {},
   "outputs": [],
   "source": [
    "def popularity_recommendation(data, n=5):\n",
    "    \"\"\"Топ-n популярных товаров\"\"\"\n",
    "    \n",
    "    popular = data.groupby('item_id')['quantity'].count().reset_index()\n",
    "    popular.sort_values('quantity', ascending=False, inplace=True)\n",
    "    popular = popular[popular['item_id'] != 999999]\n",
    "    recs = popular.head(n).item_id\n",
    "    return recs.tolist()"
   ]
  },
  {
   "cell_type": "markdown",
   "id": "herbal-hunter",
   "metadata": {},
   "source": [
    "__Вычислим precision@5__"
   ]
  },
  {
   "cell_type": "code",
   "execution_count": 30,
   "id": "interior-injection",
   "metadata": {},
   "outputs": [],
   "source": [
    "test_preds_proba = lgbc.predict_proba(X_test[basic_features])[:, 1]\n",
    "\n",
    "result = get_final_recomendation(X_test, test_preds_proba, test, train_1)"
   ]
  },
  {
   "cell_type": "code",
   "execution_count": 31,
   "id": "external-adapter",
   "metadata": {},
   "outputs": [
    {
     "data": {
      "text/html": [
       "<div>\n",
       "<style scoped>\n",
       "    .dataframe tbody tr th:only-of-type {\n",
       "        vertical-align: middle;\n",
       "    }\n",
       "\n",
       "    .dataframe tbody tr th {\n",
       "        vertical-align: top;\n",
       "    }\n",
       "\n",
       "    .dataframe thead th {\n",
       "        text-align: right;\n",
       "    }\n",
       "</style>\n",
       "<table border=\"1\" class=\"dataframe\">\n",
       "  <thead>\n",
       "    <tr style=\"text-align: right;\">\n",
       "      <th></th>\n",
       "      <th>user_id</th>\n",
       "      <th>actual</th>\n",
       "      <th>recomendations</th>\n",
       "    </tr>\n",
       "  </thead>\n",
       "  <tbody>\n",
       "    <tr>\n",
       "      <th>0</th>\n",
       "      <td>1</td>\n",
       "      <td>[880007, 883616, 931136, 938004, 940947, 94726...</td>\n",
       "      <td>[1082185, 840361, 1004906, 995242, 986947]</td>\n",
       "    </tr>\n",
       "    <tr>\n",
       "      <th>1</th>\n",
       "      <td>2</td>\n",
       "      <td>[820165, 820291, 826784, 826835, 829009, 85784...</td>\n",
       "      <td>[1133018, 1106523, 916122, 940947, 901062]</td>\n",
       "    </tr>\n",
       "    <tr>\n",
       "      <th>2</th>\n",
       "      <td>3</td>\n",
       "      <td>[827683, 908531, 989069, 1071377, 1080155, 109...</td>\n",
       "      <td>[1082185, 1106523, 1133018, 1092026, 938700]</td>\n",
       "    </tr>\n",
       "    <tr>\n",
       "      <th>3</th>\n",
       "      <td>6</td>\n",
       "      <td>[956902, 960791, 1037863, 1119051, 1137688, 84...</td>\n",
       "      <td>[1082185, 849843, 845208, 5569230, 840361]</td>\n",
       "    </tr>\n",
       "  </tbody>\n",
       "</table>\n",
       "</div>"
      ],
      "text/plain": [
       "   user_id                                             actual  \\\n",
       "0        1  [880007, 883616, 931136, 938004, 940947, 94726...   \n",
       "1        2  [820165, 820291, 826784, 826835, 829009, 85784...   \n",
       "2        3  [827683, 908531, 989069, 1071377, 1080155, 109...   \n",
       "3        6  [956902, 960791, 1037863, 1119051, 1137688, 84...   \n",
       "\n",
       "                                 recomendations  \n",
       "0    [1082185, 840361, 1004906, 995242, 986947]  \n",
       "1    [1133018, 1106523, 916122, 940947, 901062]  \n",
       "2  [1082185, 1106523, 1133018, 1092026, 938700]  \n",
       "3    [1082185, 849843, 845208, 5569230, 840361]  "
      ]
     },
     "execution_count": 31,
     "metadata": {},
     "output_type": "execute_result"
    }
   ],
   "source": [
    "result.head(4)"
   ]
  },
  {
   "cell_type": "code",
   "execution_count": 32,
   "id": "excessive-liabilities",
   "metadata": {},
   "outputs": [
    {
     "data": {
      "text/plain": [
       "0.33198938992042437"
      ]
     },
     "execution_count": 32,
     "metadata": {},
     "output_type": "execute_result"
    }
   ],
   "source": [
    "result.apply(lambda row: precision_at_k(row['recomendations'], row['actual']), axis=1).mean()"
   ]
  },
  {
   "cell_type": "markdown",
   "id": "light-heaven",
   "metadata": {},
   "source": [
    "__Сохраним результат__"
   ]
  },
  {
   "cell_type": "code",
   "execution_count": 33,
   "id": "falling-draft",
   "metadata": {},
   "outputs": [],
   "source": [
    "result.drop('actual', axis=1, inplace=True)"
   ]
  },
  {
   "cell_type": "code",
   "execution_count": 34,
   "id": "distinct-tutorial",
   "metadata": {},
   "outputs": [
    {
     "data": {
      "text/html": [
       "<div>\n",
       "<style scoped>\n",
       "    .dataframe tbody tr th:only-of-type {\n",
       "        vertical-align: middle;\n",
       "    }\n",
       "\n",
       "    .dataframe tbody tr th {\n",
       "        vertical-align: top;\n",
       "    }\n",
       "\n",
       "    .dataframe thead th {\n",
       "        text-align: right;\n",
       "    }\n",
       "</style>\n",
       "<table border=\"1\" class=\"dataframe\">\n",
       "  <thead>\n",
       "    <tr style=\"text-align: right;\">\n",
       "      <th></th>\n",
       "      <th>user_id</th>\n",
       "      <th>recomendations</th>\n",
       "    </tr>\n",
       "  </thead>\n",
       "  <tbody>\n",
       "    <tr>\n",
       "      <th>0</th>\n",
       "      <td>1</td>\n",
       "      <td>[1082185, 840361, 1004906, 995242, 986947]</td>\n",
       "    </tr>\n",
       "    <tr>\n",
       "      <th>1</th>\n",
       "      <td>2</td>\n",
       "      <td>[1133018, 1106523, 916122, 940947, 901062]</td>\n",
       "    </tr>\n",
       "    <tr>\n",
       "      <th>2</th>\n",
       "      <td>3</td>\n",
       "      <td>[1082185, 1106523, 1133018, 1092026, 938700]</td>\n",
       "    </tr>\n",
       "    <tr>\n",
       "      <th>3</th>\n",
       "      <td>6</td>\n",
       "      <td>[1082185, 849843, 845208, 5569230, 840361]</td>\n",
       "    </tr>\n",
       "  </tbody>\n",
       "</table>\n",
       "</div>"
      ],
      "text/plain": [
       "   user_id                                recomendations\n",
       "0        1    [1082185, 840361, 1004906, 995242, 986947]\n",
       "1        2    [1133018, 1106523, 916122, 940947, 901062]\n",
       "2        3  [1082185, 1106523, 1133018, 1092026, 938700]\n",
       "3        6    [1082185, 849843, 845208, 5569230, 840361]"
      ]
     },
     "execution_count": 34,
     "metadata": {},
     "output_type": "execute_result"
    }
   ],
   "source": [
    "result.head(4)"
   ]
  },
  {
   "cell_type": "code",
   "execution_count": 38,
   "id": "terminal-symposium",
   "metadata": {},
   "outputs": [],
   "source": [
    "result.to_csv('recommendations.csv', index=False)"
   ]
  },
  {
   "cell_type": "code",
   "execution_count": null,
   "id": "filled-breed",
   "metadata": {},
   "outputs": [],
   "source": []
  },
  {
   "cell_type": "code",
   "execution_count": null,
   "id": "embedded-walnut",
   "metadata": {},
   "outputs": [],
   "source": []
  }
 ],
 "metadata": {
  "kernelspec": {
   "display_name": "Python 3",
   "language": "python",
   "name": "python3"
  },
  "language_info": {
   "codemirror_mode": {
    "name": "ipython",
    "version": 3
   },
   "file_extension": ".py",
   "mimetype": "text/x-python",
   "name": "python",
   "nbconvert_exporter": "python",
   "pygments_lexer": "ipython3",
   "version": "3.7.10"
  }
 },
 "nbformat": 4,
 "nbformat_minor": 5
}
